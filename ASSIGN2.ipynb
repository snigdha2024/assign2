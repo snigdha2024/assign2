{
 "cells": [
  {
   "cell_type": "code",
   "execution_count": null,
   "id": "36622dff-805c-47b5-8c02-cbd6c1b2c567",
   "metadata": {},
   "outputs": [],
   "source": [
    "#Q1 How do you comment code in Python? What are the different types of comments?\n",
    "ANS We can comment code in Python to provide explanations with hash symbol\n",
    "There are two main ways to comment code in Python:\n",
    "\n",
    "a.Single-line comments: To add a comment, we can use the hash symbol (#).\n",
    "b.Multi-line comments: If you want to add comments that span multiple lines, we can use triple quotes for long paragraphs.\n",
    "to create a multi line string.\n",
    "for example : Single line #this is a code.\n",
    "multi line string \"\"\"....\"\"\""
   ]
  },
  {
   "cell_type": "code",
   "execution_count": null,
   "id": "3092706a-a893-4a40-986a-49b6ddb9e974",
   "metadata": {},
   "outputs": [],
   "source": [
    "Q2 #What are variables in Python? How do you declare and assign values to variables?\n",
    "ANS In Python, variables are used to manipulate & store a large amount of data\n",
    "To declare and assign value we use assignment operator. For example name = \"snigdha\", l1 = [3,4,5]"
   ]
  },
  {
   "cell_type": "code",
   "execution_count": null,
   "id": "db887001-248a-456c-be02-1ad0bdf12aee",
   "metadata": {},
   "outputs": [],
   "source": [
    "Q3 #How do you convert one data type to another in Python?\n",
    "ANS There are two methods to convert the data :\n",
    "    1. implicit function\n",
    "    2. explicit function or typecasting technique\n",
    "for ex. "
   ]
  },
  {
   "cell_type": "code",
   "execution_count": 1,
   "id": "f75e368a-ba6c-4616-ab91-ff0ff7d5f20a",
   "metadata": {},
   "outputs": [
    {
     "name": "stdout",
     "output_type": "stream",
     "text": [
      "15.5\n"
     ]
    }
   ],
   "source": [
    "x=5\n",
    "y= 10.5\n",
    "result= x+y\n",
    "print(result)"
   ]
  },
  {
   "cell_type": "code",
   "execution_count": 3,
   "id": "5d664368-b7b1-4879-a20b-2480313afecc",
   "metadata": {},
   "outputs": [
    {
     "name": "stdout",
     "output_type": "stream",
     "text": [
      "[1, 2, 3]\n"
     ]
    }
   ],
   "source": [
    "x= [1,2,3]\n",
    "y = list(x)\n",
    "print(y)"
   ]
  },
  {
   "cell_type": "code",
   "execution_count": null,
   "id": "b8a5d6ec-1e84-47b0-b35b-b784da4985a9",
   "metadata": {},
   "outputs": [],
   "source": [
    "Q4 #How do you write and execute a Python script from the command line?\n",
    "ANS\n",
    "Open jupiter notebook ,rename the file with .py extension\n",
    "open the command line, write the following code you want to print. for example print \"hello wonderful universe\"\n",
    "now run the command terminal to execute the command by pressing enter key .\n",
    "Now you can see the output and then save the script of your notebook."
   ]
  },
  {
   "cell_type": "code",
   "execution_count": 21,
   "id": "da6405ab-6135-4509-b25b-dbb72ceb2a33",
   "metadata": {},
   "outputs": [
    {
     "name": "stdout",
     "output_type": "stream",
     "text": [
      "[2, 3]\n"
     ]
    }
   ],
   "source": [
    "# Q5 Given a list my_list = [1, 2, 3, 4, 5], write the code to slice the list and obtain the sub-list [2, 3]\n",
    "#ANS \n",
    "my_list= [1,2,3,4]\n",
    "x = my_list[1:3]\n",
    "print(x)"
   ]
  },
  {
   "cell_type": "code",
   "execution_count": 7,
   "id": "2404f8ac-db6f-4925-994a-eaecc0549d85",
   "metadata": {},
   "outputs": [
    {
     "data": {
      "text/plain": [
       "' Ans A complex number is the sum of a real number and an imaginary number\\nA complex number is expressed in standard form when written a+bi where a is the real part and bi is the imaginary part.\\nThe imaginary part is denoted by the letter j\\nfor example'"
      ]
     },
     "execution_count": 7,
     "metadata": {},
     "output_type": "execute_result"
    }
   ],
   "source": [
    "#Q6. What is a complex number in mathematics, and how is it represented in Python?\n",
    "\"\"\" Ans A complex number is the sum of a real number and an imaginary number\n",
    "A complex number is expressed in standard form when written a+bi where a is the real part and bi is the imaginary part.\n",
    "The imaginary part is denoted by the letter j\n",
    "for example\"\"\""
   ]
  },
  {
   "cell_type": "code",
   "execution_count": 8,
   "id": "6e78c8e8-5866-44a9-a14d-72946e861ea1",
   "metadata": {},
   "outputs": [
    {
     "name": "stdout",
     "output_type": "stream",
     "text": [
      "(52+4j)\n"
     ]
    }
   ],
   "source": [
    "z= 2+8j\n",
    "z1= 2-6j\n",
    "mul_snig=z*z1\n",
    "print (mul_snig)"
   ]
  },
  {
   "cell_type": "code",
   "execution_count": 14,
   "id": "dde37a50-3977-423a-ae86-676d6757cbe9",
   "metadata": {},
   "outputs": [],
   "source": [
    "#Q7 What is the correct way to declare a variable named age and assign the value 25 to it?\n",
    "\n",
    "age= 25"
   ]
  },
  {
   "cell_type": "code",
   "execution_count": 15,
   "id": "fa995ac5-42ed-4e55-b7ce-f53d09c0972d",
   "metadata": {},
   "outputs": [
    {
     "data": {
      "text/plain": [
       "float"
      ]
     },
     "execution_count": 15,
     "metadata": {},
     "output_type": "execute_result"
    }
   ],
   "source": [
    "#Q8 Declare a variable named price and assign the value 9.99 to it. What data type does this variable belong to?\n",
    "\n",
    "price=9.99 #variable price belongs to the float data type.\n",
    "type(price)"
   ]
  },
  {
   "cell_type": "code",
   "execution_count": 18,
   "id": "a1015661-fdae-4dd6-8142-665a48170a21",
   "metadata": {},
   "outputs": [
    {
     "name": "stdout",
     "output_type": "stream",
     "text": [
      "Snigdha bhatnagar\n"
     ]
    }
   ],
   "source": [
    "#Q9 Create a variable named name and assign your full name to it as a string. How would you print the value of this variable?\n",
    "\n",
    "name = \"Snigdha bhatnagar\"\n",
    "print(name)"
   ]
  },
  {
   "cell_type": "code",
   "execution_count": 20,
   "id": "8cf16899-781d-41a8-9962-8b76800b4e52",
   "metadata": {},
   "outputs": [
    {
     "name": "stdout",
     "output_type": "stream",
     "text": [
      "World\n"
     ]
    }
   ],
   "source": [
    "#Q10 Given the string \"Hello, World!\", extract the substring \"World\".\n",
    "\n",
    "str_1 = \"Hello, World\"\n",
    "x= str_1[7:12]\n",
    "print(x)"
   ]
  },
  {
   "cell_type": "code",
   "execution_count": 22,
   "id": "4463b893-c8fe-4671-a4a8-98679d08ed2b",
   "metadata": {},
   "outputs": [
    {
     "name": "stdin",
     "output_type": "stream",
     "text": [
      "Are you a student ? If yes, type yes else no no\n"
     ]
    },
    {
     "name": "stdout",
     "output_type": "stream",
     "text": [
      "False\n"
     ]
    }
   ],
   "source": [
    "#Q11 Create a variable named \"is_student\" and assign it a boolean value indicating whether you are currently a student or not.\n",
    "\n",
    "s = input (\"Are you a student ? If yes, type yes else no\")\n",
    "if s.lower() == 'yes' :\n",
    "        is_student = True \n",
    "else :\n",
    "        is_student = False\n",
    "print(is_student)"
   ]
  },
  {
   "cell_type": "code",
   "execution_count": 23,
   "id": "70cab925-4484-4452-ae6e-ea05ee511cb2",
   "metadata": {},
   "outputs": [
    {
     "name": "stdout",
     "output_type": "stream",
     "text": [
      "True\n"
     ]
    }
   ],
   "source": [
    "# another way can be \n",
    "is_student = True\n",
    "print(is_student)"
   ]
  },
  {
   "cell_type": "code",
   "execution_count": null,
   "id": "747ea3f1-f446-48a3-9733-eab0603292b2",
   "metadata": {},
   "outputs": [],
   "source": [
    "#thankyou!"
   ]
  }
 ],
 "metadata": {
  "kernelspec": {
   "display_name": "Python 3 (ipykernel)",
   "language": "python",
   "name": "python3"
  },
  "language_info": {
   "codemirror_mode": {
    "name": "ipython",
    "version": 3
   },
   "file_extension": ".py",
   "mimetype": "text/x-python",
   "name": "python",
   "nbconvert_exporter": "python",
   "pygments_lexer": "ipython3",
   "version": "3.10.8"
  }
 },
 "nbformat": 4,
 "nbformat_minor": 5
}
